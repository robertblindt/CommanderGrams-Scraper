{
 "cells": [
  {
   "cell_type": "markdown",
   "id": "993113d9-9a0d-47ad-b14c-e9d24f1ffdf1",
   "metadata": {},
   "source": [
    "# Set up functions to automate scraping the top commanders pages for commanders to scrape.\n",
    "### 2 Years, Month, Week"
   ]
  },
  {
   "cell_type": "code",
   "execution_count": 1,
   "id": "efc0faf8-01d9-47ba-9cdc-55157aadc6e8",
   "metadata": {},
   "outputs": [],
   "source": [
    "import time\n",
    "from selenium import webdriver\n",
    "from selenium.webdriver.common.by import By\n",
    "from selenium.webdriver.chrome.service import Service\n",
    "from webdriver_manager.chrome import ChromeDriverManager"
   ]
  },
  {
   "cell_type": "code",
   "execution_count": 2,
   "id": "3ece6e8d-d0ec-42b9-ac4e-880a031469c9",
   "metadata": {},
   "outputs": [],
   "source": [
    "driver = webdriver.Chrome(service=Service(ChromeDriverManager().install()))\n",
    "url = f'https://edhrec.com/commanders'\n",
    "driver.get(url)"
   ]
  },
  {
   "cell_type": "code",
   "execution_count": 3,
   "id": "957e15cd-d046-4cb5-bfb1-29d51a33901b",
   "metadata": {},
   "outputs": [
    {
     "data": {
      "text/plain": [
       "100"
      ]
     },
     "execution_count": 3,
     "metadata": {},
     "output_type": "execute_result"
    }
   ],
   "source": [
    "len(driver.find_elements(By.CLASS_NAME, 'Card_name__vpWb5'))"
   ]
  },
  {
   "cell_type": "code",
   "execution_count": 2,
   "id": "e84ee1fc-8b82-4fa2-839b-a6cf87be3d3c",
   "metadata": {},
   "outputs": [],
   "source": [
    "def parseEDHrec_for_commanders():\n",
    "    driver = webdriver.Chrome(service=Service(ChromeDriverManager().install()))\n",
    "    url = f'https://edhrec.com/commanders'\n",
    "    # driver.implicitly_wait(10)\n",
    "    driver.get(url)\n",
    "    time.sleep(3)\n",
    "    # driver.execute_script(\"window.scrollTo(0, document.body.scrollHeight);\")\n",
    "    y = 1000\n",
    "    prev_pos = 0\n",
    "    # I need to scroll through the page in order to load all the card tags so I can grab the card names.\n",
    "    for timer in range(0,70):\n",
    "        driver.execute_script(\"window.scrollTo(0, \"+str(y)+\")\")\n",
    "        \n",
    "        current_scroll_height = driver.execute_script(\"return document.documentElement.scrollHeight\")\n",
    "        # This should break when the page gets to the bottom instead of going for the full 7\n",
    "        # Selenium is a bit slow and laggy, so this only helps so much.\n",
    "        if current_scroll_height < y:\n",
    "            #print('breaking')\n",
    "            break  \n",
    "            \n",
    "        y += 1000 \n",
    "        # print('scrolling')\n",
    "        time.sleep(.1)\n",
    "        \n",
    "    page_card_cont = []\n",
    "    for i in driver.find_elements(By.CLASS_NAME, 'Card_name__vpWb5'):\n",
    "        page_card_cont.append(i.text)\n",
    "    driver.close()\n",
    "    return set(page_card_cont)"
   ]
  },
  {
   "cell_type": "code",
   "execution_count": 3,
   "id": "b5d335b2-ea40-4931-af0d-aefe7c1b0a71",
   "metadata": {},
   "outputs": [
    {
     "name": "stdout",
     "output_type": "stream",
     "text": [
      "100\n"
     ]
    }
   ],
   "source": [
    "# Should be 100 if it worked properly\n",
    "commanders_of_2_years = parseEDHrec_for_commanders()\n",
    "print(len(commanders_of_2_years))"
   ]
  },
  {
   "cell_type": "code",
   "execution_count": 2,
   "id": "6d0d5504-a66e-484e-9eea-9909b81c82cf",
   "metadata": {},
   "outputs": [],
   "source": [
    "def parseEDHrec_for_commanders(page='long'):\n",
    "    driver = webdriver.Chrome(service=Service(ChromeDriverManager().install()))\n",
    "    if page == 'long':\n",
    "        url = 'https://edhrec.com/commanders/year'\n",
    "    elif page == 'month':\n",
    "        url = 'https://edhrec.com/commanders/month'\n",
    "    # For some reason Week opens the week page, but get the year data...\n",
    "    elif page == 'week':\n",
    "        url = 'https://edhrec.com/commanders/week'\n",
    "    else:\n",
    "        print(\"Only enger 'long'(default), 'month', or 'week'\")\n",
    "        \n",
    "    # driver.implicitly_wait(10)\n",
    "    driver.get(url)\n",
    "    time.sleep(3)\n",
    "    # driver.execute_script(\"window.scrollTo(0, document.body.scrollHeight);\")\n",
    "    y = 1000\n",
    "    prev_pos = 0\n",
    "    # I need to scroll through the page in order to load all the card tags so I can grab the card names.\n",
    "#     for timer in range(0,70):\n",
    "#         driver.execute_script(\"window.scrollTo(0, \"+str(y)+\")\")\n",
    "        \n",
    "#         current_scroll_height = driver.execute_script(\"return document.documentElement.scrollHeight\")\n",
    "#         # This should break when the page gets to the bottom instead of going for the full 7\n",
    "#         # Selenium is a bit slow and laggy, so this only helps so much.\n",
    "#         if current_scroll_height < y:\n",
    "#             #print('breaking')\n",
    "#             break  \n",
    "            \n",
    "#         y += 1000 \n",
    "#         # print('scrolling')\n",
    "#         time.sleep(.1)\n",
    "        \n",
    "    page_card_cont = []\n",
    "    for i in driver.find_elements(By.CLASS_NAME, 'Card_name__vpWb5'):\n",
    "        if ' // ' in i.text:\n",
    "            page_card_cont.append(i.text.split(' // ')[0])\n",
    "        else:\n",
    "            page_card_cont.append(i.text)\n",
    "    driver.close()\n",
    "    return set(page_card_cont)"
   ]
  },
  {
   "cell_type": "code",
   "execution_count": 6,
   "id": "531bdb7a-d02b-4b11-9174-8d7d4b7704c7",
   "metadata": {},
   "outputs": [],
   "source": [
    "page='week'\n",
    "weekly = parseEDHrec_for_commanders(page=page)"
   ]
  },
  {
   "cell_type": "code",
   "execution_count": 4,
   "id": "475603f5-89c5-45dd-a13a-833e1c05b3f3",
   "metadata": {},
   "outputs": [],
   "source": [
    "monthly = parseEDHrec_for_commanders(page='month')"
   ]
  },
  {
   "cell_type": "code",
   "execution_count": 7,
   "id": "57bd0a53-9183-481b-a0ff-8b1e54742590",
   "metadata": {},
   "outputs": [],
   "source": [
    "page = 'long'\n",
    "long = parseEDHrec_for_commanders(page=page)"
   ]
  },
  {
   "cell_type": "code",
   "execution_count": 8,
   "id": "02a855b3-0124-4f6f-9d02-25276c409abd",
   "metadata": {},
   "outputs": [
    {
     "data": {
      "text/plain": [
       "{'Baba Lysaga, Night Witch',\n",
       " 'Brago, King Eternal',\n",
       " 'Faldorn, Dread Wolf Herald',\n",
       " 'Haldan, Avid Arcanist',\n",
       " 'Mishra, Eminent One',\n",
       " 'Saruman, the White Hand'}"
      ]
     },
     "execution_count": 8,
     "metadata": {},
     "output_type": "execute_result"
    }
   ],
   "source": [
    "weekly-monthly"
   ]
  },
  {
   "cell_type": "code",
   "execution_count": 9,
   "id": "62887791-0571-45ef-bdaa-0326a207b14d",
   "metadata": {},
   "outputs": [
    {
     "data": {
      "text/plain": [
       "{'Alela, Cunning Conqueror',\n",
       " 'Anikthea, Hand of Erebos',\n",
       " 'Baba Lysaga, Night Witch',\n",
       " 'Brenard, Ginger Sculptor',\n",
       " 'Dihada, Binder of Wills',\n",
       " 'Eriette of the Charmed Apple',\n",
       " 'Etali, Primal Conqueror',\n",
       " 'Faldorn, Dread Wolf Herald',\n",
       " 'Frodo, Adventurous Hobbit',\n",
       " 'Haldan, Avid Arcanist',\n",
       " 'Hylda of the Icy Crown',\n",
       " 'Imodane, the Pyrohammer',\n",
       " \"Kraum, Ludevic's Opus\",\n",
       " 'Lord of the Nazgûl',\n",
       " 'Magus Lucea Kane',\n",
       " 'Marneus Calgar',\n",
       " 'Mishra, Eminent One',\n",
       " 'Narset, Enlightened Exile',\n",
       " 'Rocco, Street Chef',\n",
       " 'Rowan, Scion of War',\n",
       " 'Saruman, the White Hand',\n",
       " 'Shalai and Hallar',\n",
       " 'Shelob, Child of Ungoliant',\n",
       " 'Slimefoot and Squee',\n",
       " 'Talion, the Kindly Lord',\n",
       " 'Zhulodok, Void Gorger',\n",
       " 'Éowyn, Shieldmaiden'}"
      ]
     },
     "execution_count": 9,
     "metadata": {},
     "output_type": "execute_result"
    }
   ],
   "source": [
    "weekly-long"
   ]
  },
  {
   "cell_type": "code",
   "execution_count": 10,
   "id": "4d04c2dc-0453-4783-ba4e-ebfab3e13bcc",
   "metadata": {},
   "outputs": [
    {
     "data": {
      "text/plain": [
       "{'Anhelo, the Painter',\n",
       " 'Anowon, the Ruin Thief',\n",
       " 'Brago, King Eternal',\n",
       " 'Chulane, Teller of Tales',\n",
       " 'Dina, Soul Steeper',\n",
       " 'Feather, the Redeemed',\n",
       " 'Fynn, the Fangbearer',\n",
       " 'Galea, Kindler of Hope',\n",
       " 'Hinata, Dawn-Crowned',\n",
       " 'Jodah, Archmage Eternal',\n",
       " 'Kalamax, the Stormsire',\n",
       " 'Kess, Dissident Mage',\n",
       " 'Kozilek, the Great Distortion',\n",
       " \"Light-Paws, Emperor's Voice\",\n",
       " 'Marrow-Gnawer',\n",
       " 'Millicent, Restless Revenant',\n",
       " 'Morophon, the Boundless',\n",
       " 'Myrkul, Lord of Bones',\n",
       " 'Orvar, the All-Form',\n",
       " 'Osgir, the Reconstructor',\n",
       " 'Ramos, Dragon Engine',\n",
       " 'Syr Gwyn, Hero of Ashvale',\n",
       " 'Tatsunari, Toad Rider',\n",
       " 'Volo, Guide to Monsters'}"
      ]
     },
     "execution_count": 10,
     "metadata": {},
     "output_type": "execute_result"
    }
   ],
   "source": [
    "long-monthly"
   ]
  },
  {
   "cell_type": "code",
   "execution_count": 11,
   "id": "9749688a-3b9b-429d-bb62-4638d1d26c03",
   "metadata": {},
   "outputs": [
    {
     "data": {
      "text/plain": [
       "'éowyn, shieldmaiden'"
      ]
     },
     "execution_count": 11,
     "metadata": {},
     "output_type": "execute_result"
    }
   ],
   "source": [
    "'Éowyn, Shieldmaiden'.lower()"
   ]
  },
  {
   "cell_type": "code",
   "execution_count": 12,
   "id": "f5a8773a-5a8e-461b-8a10-a822891d99ec",
   "metadata": {},
   "outputs": [
    {
     "data": {
      "text/plain": [
       "'Eowyn, Shieldmaiden'"
      ]
     },
     "execution_count": 12,
     "metadata": {},
     "output_type": "execute_result"
    }
   ],
   "source": [
    "# THIS NEEDS TO BE PART OF THE PRECLEANING FOR THE INPUT!\n",
    "from unidecode import unidecode\n",
    "unidecode('Éowyn, Shieldmaiden')"
   ]
  },
  {
   "cell_type": "code",
   "execution_count": 6,
   "id": "4f33b14b-c643-4980-95b9-8e5b211a7046",
   "metadata": {},
   "outputs": [
    {
     "data": {
      "text/plain": [
       "datetime.datetime(2023, 10, 29, 15, 36, 41, 158531)"
      ]
     },
     "execution_count": 6,
     "metadata": {},
     "output_type": "execute_result"
    }
   ],
   "source": [
    "from datetime import datetime, timedelta\n",
    "datetime.now()-timedelta(days=1)"
   ]
  },
  {
   "cell_type": "code",
   "execution_count": 7,
   "id": "c810d3c1-1d71-4f8b-9112-37cc509e1729",
   "metadata": {},
   "outputs": [
    {
     "data": {
      "text/plain": [
       "datetime.datetime(2023, 10, 30, 15, 36, 47, 171216)"
      ]
     },
     "execution_count": 7,
     "metadata": {},
     "output_type": "execute_result"
    }
   ],
   "source": [
    "datetime.now()"
   ]
  },
  {
   "cell_type": "code",
   "execution_count": null,
   "id": "98309c6e-8aa2-4867-9dbb-82f9fcbe6b63",
   "metadata": {},
   "outputs": [],
   "source": []
  }
 ],
 "metadata": {
  "kernelspec": {
   "display_name": "Python 3 (ipykernel)",
   "language": "python",
   "name": "python3"
  },
  "language_info": {
   "codemirror_mode": {
    "name": "ipython",
    "version": 3
   },
   "file_extension": ".py",
   "mimetype": "text/x-python",
   "name": "python",
   "nbconvert_exporter": "python",
   "pygments_lexer": "ipython3",
   "version": "3.8.13"
  }
 },
 "nbformat": 4,
 "nbformat_minor": 5
}
